{
 "cells": [
  {
   "cell_type": "markdown",
   "metadata": {},
   "source": [
    "# Random(a, b) from Random(0, 1)\n",
    "\n",
    "By Pablo Muñoz Haro, https://github.com/pablo-munoz\n",
    "\n",
    "This Jupyter Notebook is mentioned in the following medium post:"
   ]
  },
  {
   "cell_type": "code",
   "execution_count": 1,
   "metadata": {},
   "outputs": [],
   "source": [
    "from matplotlib import pyplot as plt\n",
    "import numpy as np\n",
    "import random\n",
    "import math"
   ]
  },
  {
   "cell_type": "code",
   "execution_count": 2,
   "metadata": {},
   "outputs": [],
   "source": [
    "def plot_histogram(sample):\n",
    "    '''\n",
    "    Utility function to plot a histogram of a sample of the numbers\n",
    "    produced by the random number generators.\n",
    "    SAMPLE: list of numbers.\n",
    "    \n",
    "    Code for beautifying histogram for discrete data inspired by\n",
    "    https://stackoverflow.com/a/30121210\n",
    "    '''\n",
    "    data = np.array(sample)\n",
    "    d = np.diff(np.unique(data)).min()\n",
    "    left_of_first_bin = data.min() - float(d)/2\n",
    "    right_of_last_bin = data.max() + float(d)/2\n",
    "    plt.hist(data, np.arange(left_of_first_bin, right_of_last_bin + d, d), ec='black')"
   ]
  },
  {
   "cell_type": "code",
   "execution_count": 3,
   "metadata": {},
   "outputs": [],
   "source": [
    "lower_bound = 5\n",
    "upper_bound = 15\n",
    "sample_size = 10000"
   ]
  },
  {
   "cell_type": "code",
   "execution_count": 4,
   "metadata": {},
   "outputs": [],
   "source": [
    "def bad_random(low, high):\n",
    "    '''\n",
    "    Returns a normally distributed number between low and high.\n",
    "    LOW: number, the lowest number to possibly generate\n",
    "    HIGH: number, the biggest number to possibly generate\n",
    "    '''\n",
    "    return sum(random.randint(0, 1) for _ in range(high - low)) + low"
   ]
  },
  {
   "cell_type": "code",
   "execution_count": 5,
   "metadata": {},
   "outputs": [],
   "source": [
    "random_sample_bad = [bad_random(lower_bound, upper_bound) for _ in range(sample_size)]"
   ]
  },
  {
   "cell_type": "code",
   "execution_count": 6,
   "metadata": {},
   "outputs": [
    {
     "name": "stdout",
     "output_type": "stream",
     "text": [
      "Min: 5, Max: 15\n"
     ]
    }
   ],
   "source": [
    "print(\"Min: {}, Max: {}\".format(min(random_sample_bad), max(random_sample_bad)))"
   ]
  },
  {
   "cell_type": "code",
   "execution_count": 7,
   "metadata": {},
   "outputs": [
    {
     "data": {
      "image/png": "[encoded data removed]",
      "text/plain": [
       "<Figure size 432x288 with 1 Axes>"
      ]
     },
     "metadata": {},
     "output_type": "display_data"
    }
   ],
   "source": [
    "plot_histogram(random_sample_bad)"
   ]
  },
  {
   "cell_type": "markdown",
   "metadata": {},
   "source": [
    "In order to remedy this situation we have to come up with a random function where each number in the range is equally likely. I developed the idea of a method that randomized the bits in a bitstring."
   ]
  },
  {
   "cell_type": "code",
   "execution_count": 8,
   "metadata": {},
   "outputs": [],
   "source": [
    "def almost_good_random(low, high):\n",
    "    '''\n",
    "    Returns uniformly distributed random numbers within [low, high*],\n",
    "    where high* is the closest but bigger or equal power of 2 to HIGH.\n",
    "    LOW: number, the lowest number to possibly generate\n",
    "    HIGH: number, the biggest number to possibly generate\n",
    "    '''\n",
    "    bit_count = math.ceil(math.log(high-low, 2))\n",
    "    randnum = 0\n",
    "    for _ in range(bit_count):\n",
    "        randnum = (randnum << 1) + random.randint(0, 1)\n",
    "    return randnum + low"
   ]
  },
  {
   "cell_type": "code",
   "execution_count": 9,
   "metadata": {},
   "outputs": [],
   "source": [
    "random_sample_almost_good = [almost_good_random(lower_bound, upper_bound) for _ in range(sample_size)]"
   ]
  },
  {
   "cell_type": "code",
   "execution_count": 10,
   "metadata": {},
   "outputs": [
    {
     "name": "stdout",
     "output_type": "stream",
     "text": [
      "Min: 5, Max: 20\n"
     ]
    }
   ],
   "source": [
    "print(\"Min: {}, Max: {}\".format(min(random_sample_almost_good), max(random_sample_almost_good)))"
   ]
  },
  {
   "cell_type": "code",
   "execution_count": 11,
   "metadata": {},
   "outputs": [
    {
     "data": {
      "image/png": "[encoded data removed]",
      "text/plain": [
       "<Figure size 432x288 with 1 Axes>"
      ]
     },
     "metadata": {},
     "output_type": "display_data"
    }
   ],
   "source": [
    "plot_histogram(random_sample_almost_good)"
   ]
  },
  {
   "cell_type": "code",
   "execution_count": 12,
   "metadata": {},
   "outputs": [],
   "source": [
    "def good_random(low, high):\n",
    "    '''\n",
    "    Returns uniformly distributed random numbers within [low, high].\n",
    "    LOW: number, the lowest number to possibly generate\n",
    "    HIGH: number, the biggest number to possibly generate\n",
    "    '''\n",
    "    bit_count = math.ceil(math.log(high-low, 2))\n",
    "    randnum = math.inf\n",
    "    while randnum > (high-low):\n",
    "        randnum = 0\n",
    "        for _ in range(bit_count):\n",
    "            randnum = (randnum << 1) + random.randint(0, 1)\n",
    "    return randnum + low"
   ]
  },
  {
   "cell_type": "code",
   "execution_count": 13,
   "metadata": {},
   "outputs": [],
   "source": [
    "random_sample_good = [good_random(lower_bound, upper_bound) for _ in range(sample_size)]"
   ]
  },
  {
   "cell_type": "code",
   "execution_count": 14,
   "metadata": {},
   "outputs": [
    {
     "name": "stdout",
     "output_type": "stream",
     "text": [
      "Min: 5, Max: 15\n"
     ]
    }
   ],
   "source": [
    "print(\"Min: {}, Max: {}\".format(min(random_sample_good), max(random_sample_good)))"
   ]
  },
  {
   "cell_type": "code",
   "execution_count": 15,
   "metadata": {},
   "outputs": [
    {
     "data": {
      "image/png": "[encoded data removed]",
      "text/plain": [
       "<Figure size 432x288 with 1 Axes>"
      ]
     },
     "metadata": {},
     "output_type": "display_data"
    }
   ],
   "source": [
    "plot_histogram(random_sample_good)"
   ]
  }
 ],
 "metadata": {
  "kernelspec": {
   "display_name": "Python 3",
   "language": "python",
   "name": "python3"
  },
  "language_info": {
   "codemirror_mode": {
    "name": "ipython",
    "version": 3
   },
   "file_extension": ".py",
   "mimetype": "text/x-python",
   "name": "python",
   "nbconvert_exporter": "python",
   "pygments_lexer": "ipython3",
   "version": "3.6.4"
  }
 },
 "nbformat": 4,
 "nbformat_minor": 2
}
