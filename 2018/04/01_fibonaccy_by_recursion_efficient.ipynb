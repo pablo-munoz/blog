{
 "cells": [
  {
   "cell_type": "markdown",
   "metadata": {},
   "source": [
    "# Fibonacci by recursion\n",
    "## By Pablo Muñoz Haro\n",
    "\n",
    "This Jupyter Notebook accompanies the blogpost: . It presents a way to implement the fibonacci function using recursion in an efficient way. It was inspired by the classes in computer languages/functional programming I took at the Tecnológico de Monterrey during the first half of 2018. This notebook uses the convention of Fib(0)=0 and Fib(1)=1."
   ]
  },
  {
   "cell_type": "code",
   "execution_count": 1,
   "metadata": {},
   "outputs": [],
   "source": [
    "def fibonacci_recursive_bad(n):\n",
    "    '''\n",
    "    Returns the nth fibonacci number. Calls itself recursively to compute\n",
    "    the two previous fibonacci numbers and adds them together.\n",
    "    '''\n",
    "    if n == 0 or n == 1:\n",
    "        return n\n",
    "    else:\n",
    "        return fibonacci_recursive_bad(n-2) + fibonacci_recursive_bad(n-1)"
   ]
  },
  {
   "cell_type": "code",
   "execution_count": 2,
   "metadata": {},
   "outputs": [
    {
     "name": "stdout",
     "output_type": "stream",
     "text": [
      "CPU times: user 427 ms, sys: 2.63 ms, total: 429 ms\n",
      "Wall time: 427 ms\n"
     ]
    },
    {
     "data": {
      "text/plain": [
       "832040"
      ]
     },
     "execution_count": 2,
     "metadata": {},
     "output_type": "execute_result"
    }
   ],
   "source": [
    "%%time\n",
    "fibonacci_recursive_bad(30)"
   ]
  },
  {
   "cell_type": "code",
   "execution_count": 3,
   "metadata": {},
   "outputs": [],
   "source": [
    "#%%time\n",
    "# fibonacci_recursive_bad(200), had to interrupt this as it was taking too long"
   ]
  },
  {
   "cell_type": "code",
   "execution_count": 4,
   "metadata": {},
   "outputs": [],
   "source": [
    "def fibonacci_recursive_helper(fibo_2, fibo_1, countdown):\n",
    "    '''\n",
    "    Calculates fibonacci numbers. fibo_2 is the previous to\n",
    "    the previous fibonacci number, a.k.a. Fib(n-2), fibo_1\n",
    "    is the previous fibonacci number, a.k.a. Fib(n-1), countdown\n",
    "    is the number of fibonacci calculations that are yet to be performed.\n",
    "    The recursion chain stops once the countdown is zero, in which case the\n",
    "    result is actually the fibonaci calculated by the previous recursive\n",
    "    call, a.k.a fibo_1.\n",
    "    '''\n",
    "    if countdown == 0:\n",
    "        return fibo_1\n",
    "    else:\n",
    "        return fibonacci_recursive_helper(fibo_1, fibo_2 + fibo_1, countdown-1)\n",
    "\n",
    "def fibonacci_recursive_good(n):\n",
    "    '''\n",
    "    Returns the nth fibonacci number. Calls fibonacci_recursive_helper\n",
    "    by passing the values of the 0th and the 1st fibonacci number,\n",
    "    as well as a \"countdown\" of \"next fibonacci number calculations\"\n",
    "    to perform, n is reduced to account for the fact that the 0th\n",
    "    and the 1st fibonacci numbers don't need to be calculated, as they\n",
    "    are given.\n",
    "    '''\n",
    "    if n == 0 or n == 1:\n",
    "        return n\n",
    "    else:\n",
    "        return fibonacci_recursive_helper(fibo_2=0, fibo_1=1, countdown=n-1)"
   ]
  },
  {
   "cell_type": "code",
   "execution_count": 5,
   "metadata": {},
   "outputs": [
    {
     "name": "stdout",
     "output_type": "stream",
     "text": [
      "CPU times: user 23 µs, sys: 4 µs, total: 27 µs\n",
      "Wall time: 42.9 µs\n"
     ]
    },
    {
     "data": {
      "text/plain": [
       "832040"
      ]
     },
     "execution_count": 5,
     "metadata": {},
     "output_type": "execute_result"
    }
   ],
   "source": [
    "%%time\n",
    "fibonacci_recursive_good(30)"
   ]
  },
  {
   "cell_type": "markdown",
   "metadata": {},
   "source": [
    "Computing a very big fibonacci number, like the 200th is no problem."
   ]
  },
  {
   "cell_type": "code",
   "execution_count": 6,
   "metadata": {},
   "outputs": [
    {
     "name": "stdout",
     "output_type": "stream",
     "text": [
      "CPU times: user 170 µs, sys: 82 µs, total: 252 µs\n",
      "Wall time: 258 µs\n"
     ]
    },
    {
     "data": {
      "text/plain": [
       "280571172992510140037611932413038677189525"
      ]
     },
     "execution_count": 6,
     "metadata": {},
     "output_type": "execute_result"
    }
   ],
   "source": [
    "%%time\n",
    "fibonacci_recursive_good(200)"
   ]
  }
 ],
 "metadata": {
  "kernelspec": {
   "display_name": "Python 3",
   "language": "python",
   "name": "python3"
  },
  "language_info": {
   "codemirror_mode": {
    "name": "ipython",
    "version": 3
   },
   "file_extension": ".py",
   "mimetype": "text/x-python",
   "name": "python",
   "nbconvert_exporter": "python",
   "pygments_lexer": "ipython3",
   "version": "3.6.4"
  }
 },
 "nbformat": 4,
 "nbformat_minor": 2
}
